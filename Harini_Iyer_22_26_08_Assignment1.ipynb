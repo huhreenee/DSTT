{
  "nbformat": 4,
  "nbformat_minor": 0,
  "metadata": {
    "colab": {
      "provenance": [],
      "authorship_tag": "ABX9TyPCua29rNRprrfnGBNw14mV",
      "include_colab_link": true
    },
    "kernelspec": {
      "name": "python3",
      "display_name": "Python 3"
    },
    "language_info": {
      "name": "python"
    }
  },
  "cells": [
    {
      "cell_type": "markdown",
      "metadata": {
        "id": "view-in-github",
        "colab_type": "text"
      },
      "source": [
        "<a href=\"https://colab.research.google.com/github/huhreenee/DSTT/blob/main/Harini_Iyer_22_26_08_Assignment1.ipynb\" target=\"_parent\"><img src=\"https://colab.research.google.com/assets/colab-badge.svg\" alt=\"Open In Colab\"/></a>"
      ]
    },
    {
      "cell_type": "markdown",
      "source": [
        "Name: Harini Iyer\n",
        "\n",
        "Reg No: 22-26-08"
      ],
      "metadata": {
        "id": "iRV_o0EDJYER"
      }
    },
    {
      "cell_type": "markdown",
      "source": [
        "Question 1. Given an array A of N numbers (int), WAP which prints the multiplication of the\n",
        "elements of array A with the corresponding elements of the reverse of array A.\n",
        "If A = [1,2,3], then reverse of A will be [3,2,1] and the result should be [3,4,3].\n",
        "\n",
        "Input Format:\n",
        "The first line of the input contains a number N The second line of the input contains\n",
        "N numbers separated by a space. (after the last elements, there is no space)\n",
        "\n",
        "Output Format:\n",
        "Print the resultant array of elements separated by a space. (no space after the last\n",
        "element) "
      ],
      "metadata": {
        "id": "DVom_YoOPruH"
      }
    },
    {
      "cell_type": "code",
      "source": [
        "### Question 1\n",
        "\n",
        "N = int(input())\n",
        "A = [int(i) for i in input().split(\" \")]\n",
        "\n",
        "#reversing A\n",
        "B = []\n",
        "for i in range(len(A)-1,-1,-1):\n",
        "  B.append(A[i])\n",
        "#print(B)\n",
        "\n",
        "#multiplying array with its reverse\n",
        "C = []\n",
        "for i in range(len(A)):\n",
        "  C.append(A[i]*B[i])\n",
        "#print(C)\n",
        "\n",
        "#printing elements without space after the last element\n",
        "for i in range(len(C)):\n",
        "  if i == len(C)-1:\n",
        "    print(C[i])\n",
        "  else:\n",
        "    print(C[i],end=\" \")"
      ],
      "metadata": {
        "colab": {
          "base_uri": "https://localhost:8080/"
        },
        "id": "-jnCRhjeJfUD",
        "outputId": "ac2edd26-99ab-4589-c439-08a8f04e3b30"
      },
      "execution_count": null,
      "outputs": [
        {
          "output_type": "stream",
          "name": "stdout",
          "text": [
            "3\n",
            "1 2 3\n",
            "3 4 3\n"
          ]
        }
      ]
    },
    {
      "cell_type": "markdown",
      "source": [
        "Question 2. Given a list of numbers (integers), find second maximum and second minimum in\n",
        "this list.\n",
        "\n",
        "Input Format:\n",
        "The first line contains numbers separated by a space.\n",
        "\n",
        "Output Format:\n",
        "Print the second maximum and second minimum separated by a space"
      ],
      "metadata": {
        "id": "u29BUhoQP0we"
      }
    },
    {
      "cell_type": "code",
      "source": [
        "### Question 2\n",
        "\n",
        "list1 = list(map(int,input().split(\" \")))\n",
        "\n",
        "#sorting list1 without .sort()\n",
        "for i in range(len(list1)):\n",
        "  for j in range(len(list1)-1):\n",
        "    if (list1[j] > list1[j+1]):\n",
        "      list1[j],list1[j+1] = list1[j+1],list1[j]\n",
        "\n",
        "#printing second maximum and second minimum using list indexing seperated by space \n",
        "print(list1[-2],list1[1])"
      ],
      "metadata": {
        "colab": {
          "base_uri": "https://localhost:8080/"
        },
        "id": "8LWC0YouPmXr",
        "outputId": "ce976407-32fc-42e1-d5dc-c9fdc8841ae2"
      },
      "execution_count": null,
      "outputs": [
        {
          "output_type": "stream",
          "name": "stdout",
          "text": [
            "1 2 3 4 5\n",
            "4 2\n"
          ]
        }
      ]
    },
    {
      "cell_type": "markdown",
      "source": [
        "Question 3. Given a list A of numbers (integers),  you have to print those numbers which are not multiples of 5.\n",
        "\n",
        "Input Format:\n",
        "The first line contains the numbers of list A separated by a space.\n",
        "\n",
        "Output Format:\n",
        "Print the numbers in a single line separated by a space which are not multiples of 5.\n",
        "\n",
        "Example:\n",
        "\n",
        "Input:\n",
        "1 2 3 4 5 6 5\n",
        "\n",
        "Output:\n",
        "1 2 3 4 6\n",
        "\n",
        "Explanation:\n",
        "Here the elements of A are 1,2,3,4,5,6,5 and since 5 is the multiple of 5, after removing\n",
        "them the list becomes 1,2,3,4,6."
      ],
      "metadata": {
        "id": "Qvof9UywTVXI"
      }
    },
    {
      "cell_type": "code",
      "source": [
        "### Question 3\n",
        "A = list(map(int,input().split(\" \")))\n",
        "for ele in A:\n",
        "  if(ele%5 != 0):\n",
        "    print(ele,end=\" \")"
      ],
      "metadata": {
        "colab": {
          "base_uri": "https://localhost:8080/"
        },
        "id": "yNd1mTRrTo1L",
        "outputId": "9963681d-aa69-4b94-bf01-20fbca0636ab"
      },
      "execution_count": null,
      "outputs": [
        {
          "output_type": "stream",
          "name": "stdout",
          "text": [
            "1 2 3 4 5 6 5\n",
            "1 2 3 4 6 "
          ]
        }
      ]
    },
    {
      "cell_type": "markdown",
      "source": [
        "Question 4. \n",
        "You are given a number A which contains only digits 0’s and 1’s. Your task is to\n",
        "make all digits same by just flipping one digit (i.e. 0 to 1 or 1 to 0 ) only. If it is\n",
        "possible to make all the digits same by just flipping one digit then print ’YES’ else\n",
        "print ’NO’.\n",
        "\n",
        "Input Format:\n",
        "The first line contains a number made up of 0’s and 1’s.\n",
        "\n",
        "Output Format:\n",
        "Print ’YES’ or ’NO’ accordingly without quotes.\n",
        "\n",
        "Example:\n",
        "\n",
        "Input:\n",
        "101\n",
        "\n",
        "Output:\n",
        "YES\n",
        "\n",
        "Explanation:\n",
        "If you flip the middle digit from 0 to 1 then all the digits will become same. Hence\n",
        "output is YES."
      ],
      "metadata": {
        "id": "1xZtgex1U_AF"
      }
    },
    {
      "cell_type": "code",
      "source": [
        "### Question 4\n",
        "\n",
        "A = str(input())\n",
        "z,o = 0,0\n",
        "for i in range(len(A)):\n",
        "  if A[i]=='0':\n",
        "    z+=1\n",
        "  elif A[i]=='1':\n",
        "    o+=1\n",
        "\n",
        "if abs(z-o) == 1:\n",
        "  print(\"YES\")\n",
        "else:\n",
        "  print(\"NO\")\n"
      ],
      "metadata": {
        "colab": {
          "base_uri": "https://localhost:8080/"
        },
        "id": "n0KBOwCiU94N",
        "outputId": "7f8675b2-bffe-48f5-d4ac-d1768de79e92"
      },
      "execution_count": null,
      "outputs": [
        {
          "output_type": "stream",
          "name": "stdout",
          "text": [
            "1001\n",
            "NO\n"
          ]
        }
      ]
    },
    {
      "cell_type": "markdown",
      "source": [
        "Question 5. Given an integer number n, you have to print the factorial of this number.\n",
        "\n",
        "Input Format:\n",
        "A number n.\n",
        "\n",
        "Output Format:\n",
        "Print the factorial of n.\n",
        "\n",
        "Example:\n",
        "\n",
        "Input:\n",
        "4\n",
        "\n",
        "Output:\n",
        "24"
      ],
      "metadata": {
        "id": "dEy1vjlXiYEA"
      }
    },
    {
      "cell_type": "code",
      "source": [
        "### Question 5\n",
        "n = int(input())\n",
        "\n",
        "def fact(n):\n",
        "  if(n<0):\n",
        "    return \n",
        "  if(n==0 or n==1):\n",
        "    return 1\n",
        "  return n * fact(n-1)\n",
        "\n",
        "fact(n)"
      ],
      "metadata": {
        "colab": {
          "base_uri": "https://localhost:8080/"
        },
        "id": "-2ZVbAgxkl4d",
        "outputId": "51322c09-d8a0-428a-ea7f-e589dd7e3faa"
      },
      "execution_count": null,
      "outputs": [
        {
          "name": "stdout",
          "output_type": "stream",
          "text": [
            "6\n"
          ]
        },
        {
          "output_type": "execute_result",
          "data": {
            "text/plain": [
              "720"
            ]
          },
          "metadata": {},
          "execution_count": 26
        }
      ]
    },
    {
      "cell_type": "markdown",
      "source": [
        "Question 6. Write a program, which will find all such numbers between m and n (both included)\n",
        "such that each digit of the number is an even number.\n",
        "\n",
        "Input Format:\n",
        "The first line contains value m and n separated by a comma.\n",
        "\n",
        "Output Format:\n",
        "The numbers obtained should be printed in a comma-separated sequence on a single\n",
        "line.\n",
        "\n",
        "Constraints:\n",
        "1000<=m<=9000\n",
        "1000<=n<=9000"
      ],
      "metadata": {
        "id": "XZXsML-MmatW"
      }
    },
    {
      "cell_type": "code",
      "source": [
        "### Question 6\n",
        "list1=[int(i) for i in input().split(\",\")]\n",
        "m=list1[0]\n",
        "n=list1[1]\n",
        "even_digits=[]\n",
        "\n",
        "for i in range(m,n+1):      \n",
        "   num=i           \n",
        "   isEven=True \n",
        "   while(num!=0):  \n",
        "       digit=num%10   \n",
        "       num=num//10    \n",
        "       if(digit%2!=0):     \n",
        "           isEven=False   \n",
        "           break   \n",
        "\n",
        "   if(isEven):        \n",
        "       even_digits.append(i)\n",
        "print(even_digits)      "
      ],
      "metadata": {
        "colab": {
          "base_uri": "https://localhost:8080/"
        },
        "id": "JMnI5PQrmkv3",
        "outputId": "bfc3692e-ae6d-4b4a-ff1b-4ea06d665000"
      },
      "execution_count": null,
      "outputs": [
        {
          "output_type": "stream",
          "name": "stdout",
          "text": [
            "100,500\n",
            "[200, 202, 204, 206, 208, 220, 222, 224, 226, 228, 240, 242, 244, 246, 248, 260, 262, 264, 266, 268, 280, 282, 284, 286, 288, 400, 402, 404, 406, 408, 420, 422, 424, 426, 428, 440, 442, 444, 446, 448, 460, 462, 464, 466, 468, 480, 482, 484, 486, 488]\n"
          ]
        }
      ]
    }
  ]
}